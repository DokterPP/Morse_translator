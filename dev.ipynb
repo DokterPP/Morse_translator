{
 "cells": [
  {
   "cell_type": "code",
   "execution_count": 1,
   "metadata": {},
   "outputs": [],
   "source": [
    "#create a stack for the morse code\n",
    "class Stack:\n",
    "    def __init__(self):\n",
    "        self.items = []\n",
    "    def isEmpty(self):\n",
    "        return self.items == []\n",
    "    def push(self, item):\n",
    "        self.items.append(item)\n",
    "    def pop(self):\n",
    "        return self.items.pop()\n",
    "    def peek(self):\n",
    "        return self.items[len(self.items)-1]\n",
    "    def size(self):\n",
    "        return len(self.items)\n"
   ]
  },
  {
   "cell_type": "code",
   "execution_count": null,
   "metadata": {},
   "outputs": [],
   "source": [
    "class Node :\n",
    "    def __init__(self, initdata):\n",
    "        self.data = initdata\n",
    "        self.next = None\n",
    "    def getData(self):\n",
    "        return self.data\n",
    "    def getNext(self):\n",
    "        return self.next\n",
    "    def setData(self, newdata):\n",
    "        self.data = newdata\n",
    "    def setNext(self, newnext):\n",
    "        self.next = newnext\n",
    "\n",
    "class LinkedList:\n",
    "    def __init__(self):\n",
    "        self.head = None\n",
    "    def add(self, item):\n",
    "        temp = Node(item)\n",
    "        temp.setNext(self.head)\n",
    "        self.head = temp\n",
    "    def remove(self):\n",
    "        temp = self.head\n",
    "        self.head = self.head.getNext()\n",
    "        return temp.getData()\n",
    "    def isEmpty(self):\n",
    "        return self.head == None\n",
    "    def size(self):\n",
    "        current = self.head\n",
    "        count = 0\n",
    "        while current != None:\n",
    "            count = count + 1\n",
    "            current = current.getNext()\n",
    "        return count"
   ]
  },
  {
   "cell_type": "code",
   "execution_count": 4,
   "metadata": {},
   "outputs": [
    {
     "name": "stdout",
     "output_type": "stream",
     "text": [
      "*                                                     \n",
      "*                                                     \n",
      "*                                                    *\n",
      "*                                                    *\n",
      "*                                                    *\n",
      "------------------------------------------------------------\n"
     ]
    }
   ],
   "source": [
    "def print_vertical_bars(numbers):\n",
    "    max_height = max(numbers)\n",
    "    total_bars_width = sum(numbers)\n",
    "    num_bars = len(numbers)\n",
    "    total_spaces = 60 - total_bars_width  # Assuming the base length is fixed at 60\n",
    "    \n",
    "    # Calculate the number of spaces between each bar\n",
    "    if num_bars > 1:\n",
    "        space_between_bars = total_spaces // (num_bars - 1)\n",
    "        remaining_spaces = total_spaces % (num_bars - 1)\n",
    "    else:\n",
    "        space_between_bars = 0\n",
    "        remaining_spaces = total_spaces\n",
    "\n",
    "    # Iterate through each position vertically\n",
    "    for i in range(max_height, 0, -1):\n",
    "        # Iterate through each number in the list\n",
    "\n",
    "        for j, num in enumerate(numbers):\n",
    "            if num >= i:\n",
    "                print(\"*\", end=\"\")\n",
    "            else:\n",
    "                print(\" \", end=\"\")\n",
    "\n",
    "            # Add extra spaces between bars\n",
    "            if j < num_bars - 1:\n",
    "                num_spaces = space_between_bars + (1 if remaining_spaces > 0 else 0)\n",
    "                print(\" \" * num_spaces, end=\"\")\n",
    "                remaining_spaces -= 1 if remaining_spaces > 0 else 0\n",
    "        \n",
    "        # Move to the next line after printing each row\n",
    "        print()\n",
    "\n",
    "    # Print fixed length base\n",
    "    print(\"-\" * 60)\n",
    "    \n",
    "# Example usage\n",
    "numbers = [5,3]\n",
    "print_vertical_bars(numbers)\n"
   ]
  }
 ],
 "metadata": {
  "kernelspec": {
   "display_name": "Python 3",
   "language": "python",
   "name": "python3"
  },
  "language_info": {
   "codemirror_mode": {
    "name": "ipython",
    "version": 3
   },
   "file_extension": ".py",
   "mimetype": "text/x-python",
   "name": "python",
   "nbconvert_exporter": "python",
   "pygments_lexer": "ipython3",
   "version": "3.10.9"
  }
 },
 "nbformat": 4,
 "nbformat_minor": 2
}
