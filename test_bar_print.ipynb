{
 "cells": [
  {
   "cell_type": "code",
   "execution_count": 30,
   "metadata": {},
   "outputs": [],
   "source": [
    "def print_vertical_bars(numbers):\n",
    "        bar_print = \"\" \n",
    "        max_height = max(numbers)\n",
    "        num_bars = len(numbers)\n",
    "        total_spaces = 60 - num_bars  # Assuming the base length is fixed at 60\n",
    "\n",
    "        # Calculate the number of spaces between each bar\n",
    "        if num_bars > 1:\n",
    "            space_between_bars = total_spaces // (num_bars)\n",
    "            remaining_spaces = total_spaces % (num_bars - 1)\n",
    "        else:\n",
    "            space_between_bars = 0\n",
    "            remaining_spaces = total_spaces\n",
    "\n",
    "        # Iterate through each position vertically\n",
    "        for i in range(max_height, 0, -1):\n",
    "            # Iterate through each number in the list\n",
    "\n",
    "            for j, num in enumerate(numbers):\n",
    "                if num >= i:\n",
    "                    bar_print += \"*\"\n",
    "                else:\n",
    "                    bar_print += \" \"\n",
    "\n",
    "                # Add extra spaces between bars\n",
    "                if j < num_bars - 1:\n",
    "                    num_spaces = space_between_bars + (1 if remaining_spaces > 0 else 0)\n",
    "                    bar_print += \" \" * num_spaces\n",
    "                    remaining_spaces -= 1 if remaining_spaces > 0 else 0\n",
    "\n",
    "            # Move to the next line after printing each row\n",
    "            bar_print += \"\\n\"\n",
    "\n",
    "        # Print fixed length base\n",
    "        bar_print += \"-\" * 60 + \"\\n\"\n",
    "\n",
    "\n",
    "\n",
    "        return bar_print"
   ]
  },
  {
   "cell_type": "code",
   "execution_count": 35,
   "metadata": {},
   "outputs": [
    {
     "name": "stdout",
     "output_type": "stream",
     "text": [
      "max_height:  1\n",
      "total_bars_width:  2\n",
      "num_bars:  2\n",
      "total_spaces:  58\n",
      "space_between_bars:  58\n",
      "remaining_spaces:  0\n",
      "*                             *\n",
      "------------------------------------------------------------\n",
      "\n"
     ]
    }
   ],
   "source": [
    "numbers = [1,1]\n",
    "\n",
    "max_height = max(numbers)\n",
    "total_bars_width = sum(numbers)\n",
    "num_bars = len(numbers)\n",
    "total_spaces = 60 - total_bars_width\n",
    "space_between_bars = total_spaces // (num_bars - 1)\n",
    "remaining_spaces = total_spaces % (num_bars - 1)\n",
    "\n",
    "print(\"max_height: \", max_height)\n",
    "print(\"total_bars_width: \", total_bars_width)\n",
    "print(\"num_bars: \", num_bars)\n",
    "print(\"total_spaces: \", total_spaces)\n",
    "print(\"space_between_bars: \", space_between_bars)\n",
    "print(\"remaining_spaces: \", remaining_spaces)\n",
    "\n",
    "print(print_vertical_bars(numbers))"
   ]
  }
 ],
 "metadata": {
  "language_info": {
   "name": "python"
  }
 },
 "nbformat": 4,
 "nbformat_minor": 2
}
